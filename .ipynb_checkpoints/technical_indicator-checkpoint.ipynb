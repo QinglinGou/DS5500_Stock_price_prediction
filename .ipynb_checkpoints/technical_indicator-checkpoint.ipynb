{
 "cells": [
  {
   "cell_type": "code",
   "execution_count": 3,
   "metadata": {
    "colab": {
     "base_uri": "https://localhost:8080/",
     "height": 393
    },
    "id": "-ULoGNPLff2y",
    "outputId": "569a87d7-45e1-4e1e-a35b-2ecd4548ce93"
   },
   "outputs": [],
   "source": [
    "import pandas as pd\n",
    "from stockstats import StockDataFrame\n",
    "\n",
    "\n"
   ]
  },
  {
   "cell_type": "code",
   "execution_count": 2,
   "metadata": {},
   "outputs": [
    {
     "name": "stdout",
     "output_type": "stream",
     "text": [
      "Collecting stockstats\n",
      "  Obtaining dependency information for stockstats from https://files.pythonhosted.org/packages/15/b3/a4ae4952ff08544e7f286bc2925193077660fa80cab8f86b0a32a2a70f4d/stockstats-0.6.2-py2.py3-none-any.whl.metadata\n",
      "  Downloading stockstats-0.6.2-py2.py3-none-any.whl.metadata (38 kB)\n",
      "Requirement already satisfied: numpy>=1.16.6 in /Users/qinglingou/anaconda3/lib/python3.11/site-packages (from stockstats) (1.24.3)\n",
      "Requirement already satisfied: pandas>=0.24.2 in /Users/qinglingou/anaconda3/lib/python3.11/site-packages (from stockstats) (2.0.3)\n",
      "Requirement already satisfied: python-dateutil>=2.8.2 in /Users/qinglingou/anaconda3/lib/python3.11/site-packages (from pandas>=0.24.2->stockstats) (2.8.2)\n",
      "Requirement already satisfied: pytz>=2020.1 in /Users/qinglingou/anaconda3/lib/python3.11/site-packages (from pandas>=0.24.2->stockstats) (2023.3.post1)\n",
      "Requirement already satisfied: tzdata>=2022.1 in /Users/qinglingou/anaconda3/lib/python3.11/site-packages (from pandas>=0.24.2->stockstats) (2023.3)\n",
      "Requirement already satisfied: six>=1.5 in /Users/qinglingou/anaconda3/lib/python3.11/site-packages (from python-dateutil>=2.8.2->pandas>=0.24.2->stockstats) (1.16.0)\n",
      "Downloading stockstats-0.6.2-py2.py3-none-any.whl (30 kB)\n",
      "Installing collected packages: stockstats\n",
      "Successfully installed stockstats-0.6.2\n"
     ]
    }
   ],
   "source": [
    "!pip install stockstats"
   ]
  },
  {
   "cell_type": "code",
   "execution_count": null,
   "metadata": {},
   "outputs": [],
   "source": []
  },
  {
   "cell_type": "code",
   "execution_count": null,
   "metadata": {},
   "outputs": [],
   "source": [
    "raw_data = pd.read_csv(\"data/AAPL.csv\")\n",
    "tmp_stock = StockDataFrame.retype(raw_data)\n",
    "data = pd.read_csv(\"data/AAPL.csv\")\n",
    "# Convert the DataFrame to a StockDataFrame for easier calculation of indicators\n",
    "stock_data = StockDataFrame.retype(raw_data)\n",
    "\n",
    "# Calculate the momentum indicators\n",
    "stock_data['mom_5'] = stock_data.get('close_5_mom')  # Momentum for 5 days\n",
    "stock_data['mom_10'] = stock_data.get('close_10_mom')  # Momentum for 10 days\n",
    "stock_data['mom_14'] = stock_data.get('close_14_mom')  # Momentum for 14 days\n",
    "\n",
    "# Calculate the stochastic indicators\n",
    "stock_data['stoch_k'] = stock_data.get('kdjk')  # STCK\n",
    "stock_data['stoch_d'] = stock_data.get('kdjd')  # STCD\n",
    "\n",
    "\n"
   ]
  },
  {
   "cell_type": "code",
   "execution_count": null,
   "metadata": {},
   "outputs": [],
   "source": [
    "data = data[['Date', 'Close', 'MOM_5', 'MOM_10', 'MOM_14', 'STCK', 'STCD']]\n",
    "\n",
    "days = [5, 10, 14, 30, 50, 100, 200]\n",
    "for day in days:\n",
    "    data['close_'+str(day)+'_sma'] = tmp_stock['close_'+str(day)+'_sma'].values\n",
    "    data['close_'+str(day)+'_ema'] = tmp_stock['close_'+str(day)+'_ema'].values\n",
    "\n",
    "tmp_stock.MACD_EMA_LONG = 26\n",
    "tmp_stock.MACD_EMA_SHORT = 13\n",
    "tmp_stock.MACD_EMA_SIGNAL = 19\n",
    "data['macd_26_13_19'] = tmp_stock['macd'].values\n",
    "tmp_stock.MACD_EMA_LONG = 45\n",
    "tmp_stock.MACD_EMA_SHORT = 25\n",
    "tmp_stock.MACD_EMA_SIGNAL = 15\n",
    "data['macd_45_25_15'] = tmp_stock['macd'].values\n",
    "\n",
    "for day in [14, 28]:\n",
    "    data['rsi_'+str(day)] = tmp_stock['rsi_'+str(day)].values\n",
    "\n",
    "for day in [14, 28, 50, 100]:\n",
    "    data['wr_'+str(day)] = tmp_stock['wr_'+str(day)].values\n",
    "\n",
    "for day in [14, 50, 100]:\n",
    "    data['cci_'+str(day)] = tmp_stock['cci_'+str(day)].values\n",
    "\n",
    "data.to_csv('./data/AAPL_process.csv', sep=',', header=True, index=False)"
   ]
  },
  {
   "cell_type": "code",
   "execution_count": null,
   "metadata": {},
   "outputs": [],
   "source": []
  },
  {
   "cell_type": "code",
   "execution_count": null,
   "metadata": {},
   "outputs": [],
   "source": []
  },
  {
   "cell_type": "code",
   "execution_count": null,
   "metadata": {},
   "outputs": [],
   "source": []
  },
  {
   "cell_type": "code",
   "execution_count": null,
   "metadata": {},
   "outputs": [],
   "source": []
  },
  {
   "cell_type": "code",
   "execution_count": null,
   "metadata": {},
   "outputs": [],
   "source": []
  }
 ],
 "metadata": {
  "colab": {
   "provenance": []
  },
  "kernelspec": {
   "display_name": "Python 3 (ipykernel)",
   "language": "python",
   "name": "python3"
  },
  "language_info": {
   "codemirror_mode": {
    "name": "ipython",
    "version": 3
   },
   "file_extension": ".py",
   "mimetype": "text/x-python",
   "name": "python",
   "nbconvert_exporter": "python",
   "pygments_lexer": "ipython3",
   "version": "3.11.5"
  }
 },
 "nbformat": 4,
 "nbformat_minor": 1
}
